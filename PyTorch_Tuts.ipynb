{
  "nbformat": 4,
  "nbformat_minor": 0,
  "metadata": {
    "colab": {
      "provenance": [],
      "authorship_tag": "ABX9TyMSILptoBVJoIrRgQphQo9f",
      "include_colab_link": true
    },
    "kernelspec": {
      "name": "python3",
      "display_name": "Python 3"
    },
    "language_info": {
      "name": "python"
    }
  },
  "cells": [
    {
      "cell_type": "markdown",
      "metadata": {
        "id": "view-in-github",
        "colab_type": "text"
      },
      "source": [
        "<a href=\"https://colab.research.google.com/github/s-ravi18/my_reference/blob/main/PyTorch_Tuts.ipynb\" target=\"_parent\"><img src=\"https://colab.research.google.com/assets/colab-badge.svg\" alt=\"Open In Colab\"/></a>"
      ]
    },
    {
      "cell_type": "code",
      "execution_count": null,
      "metadata": {
        "id": "fvE6e7eLFYEO"
      },
      "outputs": [],
      "source": [
        "import torch"
      ]
    },
    {
      "cell_type": "markdown",
      "source": [
        "# Basics:"
      ],
      "metadata": {
        "id": "Br4TVX5TUZSc"
      }
    },
    {
      "cell_type": "markdown",
      "source": [
        "Main functions:\n",
        "\n",
        "- torch.tensor() - a.shape,a.ndim,a.dtype,a.device,torch.reshape(a,target)\n",
        "\n",
        "- tensor-->(dtype,device,requires_grad) \n",
        "\n",
        "- a.type(target_dtype), max(), min(), sum(), mean(), torch.argmax()/argmin() - aggregation and type conversion\n",
        "\n",
        "- torch.matmul()\n",
        "\n",
        "- a.copy(),a.view()\n",
        "\n",
        "- torch.from_numpy(ndarray) - NumPy array -> PyTorch tensor.\n",
        "\n",
        "  torch.Tensor.numpy() - PyTorch tensor -> NumPy array.\n",
        "\n",
        "- Reproducability: torch.manual_seed(seed=RANDOM_SEED) \n",
        "\n",
        "Note: The lower the precision of the datatype, the higher the speed of computation but trades off against accuracy. eg: 8 bit performs faster than 16 bit. Saves memory too. "
      ],
      "metadata": {
        "id": "SzW2mjQWZYe8"
      }
    },
    {
      "cell_type": "code",
      "source": [
        "## Checking version:\n",
        "torch.__version__"
      ],
      "metadata": {
        "colab": {
          "base_uri": "https://localhost:8080/",
          "height": 35
        },
        "id": "ZL2-zeXmL-UK",
        "outputId": "8c9a1df9-b164-4078-b141-ff9d1af7beff"
      },
      "execution_count": null,
      "outputs": [
        {
          "output_type": "execute_result",
          "data": {
            "text/plain": [
              "'1.13.1+cu116'"
            ],
            "application/vnd.google.colaboratory.intrinsic+json": {
              "type": "string"
            }
          },
          "metadata": {},
          "execution_count": 2
        }
      ]
    },
    {
      "cell_type": "code",
      "source": [
        "a=torch.tensor(5)  ## Creating a scalar\n",
        "a\n",
        "a.ndim  # To check the dimension\n",
        "a.item()"
      ],
      "metadata": {
        "colab": {
          "base_uri": "https://localhost:8080/"
        },
        "id": "1Wb6S4tWUfw5",
        "outputId": "d5f124c1-9f51-4d63-dfaf-7ec68fd1eab5"
      },
      "execution_count": null,
      "outputs": [
        {
          "output_type": "execute_result",
          "data": {
            "text/plain": [
              "5"
            ]
          },
          "metadata": {},
          "execution_count": 3
        }
      ]
    },
    {
      "cell_type": "code",
      "source": [
        "a=torch.Tensor(10)\n",
        "a"
      ],
      "metadata": {
        "colab": {
          "base_uri": "https://localhost:8080/"
        },
        "id": "jIdYJztCU0wf",
        "outputId": "7f86ef09-c7f2-48ca-c492-5a27569764b1"
      },
      "execution_count": null,
      "outputs": [
        {
          "output_type": "execute_result",
          "data": {
            "text/plain": [
              "tensor([ 1.7399e-17,  4.5593e-41,  1.7404e-17,  4.5593e-41,  1.7400e-17,\n",
              "         4.5593e-41, -4.2503e+18,  4.5593e-41,  1.7340e-17,  4.5593e-41])"
            ]
          },
          "metadata": {},
          "execution_count": 4
        }
      ]
    },
    {
      "cell_type": "code",
      "source": [
        "a=torch.tensor([[1,2,3,4],[1,2,3,4]]) ## Pass in a array of numbers=> vector\n",
        "a=torch.tensor([1,2,3,4],dtype=torch.float16,device=None,requires_grad=False)\n",
        "a.ndim\n",
        "a.shape"
      ],
      "metadata": {
        "colab": {
          "base_uri": "https://localhost:8080/"
        },
        "id": "m7OZfX-lVuDh",
        "outputId": "7cfa70a3-01fa-4766-f35d-19f0564dbcae"
      },
      "execution_count": null,
      "outputs": [
        {
          "output_type": "execute_result",
          "data": {
            "text/plain": [
              "torch.Size([4])"
            ]
          },
          "metadata": {},
          "execution_count": 5
        }
      ]
    },
    {
      "cell_type": "code",
      "source": [
        "a=torch.rand(size=(3, 4, 5)) ## Random vectors\n",
        "a.ndim\n",
        "a.shape\n",
        "a.dtype"
      ],
      "metadata": {
        "colab": {
          "base_uri": "https://localhost:8080/"
        },
        "id": "4cFLNCq3Yl2X",
        "outputId": "fb01ab69-2ea7-41b3-c232-aae2ab4926aa"
      },
      "execution_count": null,
      "outputs": [
        {
          "output_type": "execute_result",
          "data": {
            "text/plain": [
              "torch.float32"
            ]
          },
          "metadata": {},
          "execution_count": 6
        }
      ]
    },
    {
      "cell_type": "code",
      "source": [
        "a=torch.zeros(size=(3, 4))\n",
        "a=torch.ones(size=(3, 4))\n",
        "a=torch.arange(5)\n",
        "a"
      ],
      "metadata": {
        "colab": {
          "base_uri": "https://localhost:8080/"
        },
        "id": "whOVW6jnaOSF",
        "outputId": "192f02ce-e699-4c1b-c948-5b1df9dc12fe"
      },
      "execution_count": null,
      "outputs": [
        {
          "output_type": "execute_result",
          "data": {
            "text/plain": [
              "tensor([0, 1, 2, 3, 4])"
            ]
          },
          "metadata": {},
          "execution_count": 8
        }
      ]
    },
    {
      "cell_type": "code",
      "source": [
        "%%time\n",
        "## Tensor operations\n",
        "## Dot Product:\n",
        "a=torch.tensor([1,2,3,4])\n",
        "b=torch.tensor([1,2,3,4])\n",
        "torch.matmul(a,b)\n",
        "##Element wie Multiplication:\n",
        "a*b"
      ],
      "metadata": {
        "colab": {
          "base_uri": "https://localhost:8080/"
        },
        "id": "5JREdePNSybD",
        "outputId": "3884392b-1938-41d8-ee50-53dbb453e85c"
      },
      "execution_count": null,
      "outputs": [
        {
          "output_type": "stream",
          "name": "stdout",
          "text": [
            "CPU times: user 1.05 ms, sys: 2 µs, total: 1.06 ms\n",
            "Wall time: 838 µs\n"
          ]
        },
        {
          "output_type": "execute_result",
          "data": {
            "text/plain": [
              "tensor([ 1,  4,  9, 16])"
            ]
          },
          "metadata": {},
          "execution_count": 12
        }
      ]
    },
    {
      "cell_type": "code",
      "source": [
        "## Aggregation:\n",
        "a.min(),a.max(),a.type(torch.float32).mean(),a.sum()\n",
        "torch.argmax(a),torch.argmin(a)  ## returns the index of the resp. max and min elements"
      ],
      "metadata": {
        "colab": {
          "base_uri": "https://localhost:8080/"
        },
        "id": "MZFZjBZCX6JQ",
        "outputId": "dcefa681-d02d-484b-e487-ae70afbe1020"
      },
      "execution_count": null,
      "outputs": [
        {
          "output_type": "execute_result",
          "data": {
            "text/plain": [
              "(tensor(3), tensor(0))"
            ]
          },
          "metadata": {},
          "execution_count": 15
        }
      ]
    },
    {
      "cell_type": "code",
      "source": [
        "## Changing the type of a tensor:\n",
        "a.type(torch.float16)"
      ],
      "metadata": {
        "colab": {
          "base_uri": "https://localhost:8080/"
        },
        "id": "SrkjeC0gaYe3",
        "outputId": "f8488a81-8d6a-4e9f-ee90-19801aaa29ce"
      },
      "execution_count": null,
      "outputs": [
        {
          "output_type": "execute_result",
          "data": {
            "text/plain": [
              "tensor([1., 2., 3., 4.], dtype=torch.float16)"
            ]
          },
          "metadata": {},
          "execution_count": 20
        }
      ]
    },
    {
      "cell_type": "code",
      "source": [
        "# Check for GPU\n",
        "torch.cuda.is_available()\n",
        "# Count number of devices\n",
        "torch.cuda.device_count()\n",
        "# Set device type\n",
        "device = \"cuda\" if torch.cuda.is_available() else \"cpu\"\n",
        "device\n",
        "# Putting tensors on GPU:\n",
        "some_tensor=torch.tensor([1,2,3,4])\n",
        "some_tensor = some_tensor.to(device)\n",
        "# Tensor back to cpu and into numpy array:\n",
        "tensor_back_on_cpu = tensor_on_gpu.cpu().numpy()\n",
        "tensor_back_on_cpu"
      ],
      "metadata": {
        "id": "vtchYHxIfXwt"
      },
      "execution_count": null,
      "outputs": []
    },
    {
      "cell_type": "markdown",
      "source": [
        "AutoGrad:: Built-in differentiation engine. \n",
        "\n",
        "Parameters of your ML Model will require \"requires_grad\" paramter to be True.\n",
        "For eg: w = torch.randn(5, 3, requires_grad=True)\n",
        "        b = torch.randn(3, requires_grad=True)\n",
        "\n",
        "\n",
        "To compute gradients:\n",
        "- define the loss function in term of the parameters\n",
        "- use .backward() method i.e. loss.backward()\n",
        "- finally retrieve the individual gradients of the parameters using .grad attribute.\n",
        "\n",
        "For eg:\n",
        "loss.backward(),\n",
        "w.grad,\n",
        "b.grad\n",
        "\n",
        "Grad is only available for those which have requires_grad=True\n",
        "\n"
      ],
      "metadata": {
        "id": "vGAI_8x0yOGH"
      }
    },
    {
      "cell_type": "code",
      "source": [
        "## Making a Prediction:\n",
        "\n",
        "with torch.inference_mode(): \n",
        "    y_preds = model(X_test)\n",
        "\n",
        "# Note: in older PyTorch code you might also see torch.no_grad()\n",
        "\n",
        "# with torch.no_grad():   #### IMPORTANT\n",
        "#   y_preds = model_0(X_test)"
      ],
      "metadata": {
        "id": "x6AvLmdVjjzP"
      },
      "execution_count": null,
      "outputs": []
    },
    {
      "cell_type": "markdown",
      "source": [
        "**Loss functions:**\n",
        "\n",
        "torch.nn.L1loss()   ---> MAE for Regression\n",
        "\n",
        "torch.nn.BCEloss()  ---> Binary Cross Entropy for Binary classification\n",
        "\n",
        "**Optimizers:**\n",
        "\n",
        "torch.optim.SGD()\n",
        "\n",
        "torch.optim.Adam()"
      ],
      "metadata": {
        "id": "wHZ5gUsnykBG"
      }
    },
    {
      "cell_type": "code",
      "source": [
        "torch.optim.SGD(params=model.parameters(),lr=0.001)   ## Two parameters - (model parameters,learning rate)"
      ],
      "metadata": {
        "id": "NSliMJ6kypcX"
      },
      "execution_count": null,
      "outputs": []
    },
    {
      "cell_type": "markdown",
      "source": [
        "# Simple Demonstration:"
      ],
      "metadata": {
        "id": "zT3ITK47ysR1"
      }
    },
    {
      "cell_type": "markdown",
      "source": [
        "Steps to follow:\n",
        "\n",
        "1. Data Definition and conversion into tensors\n",
        "2. Define the model class with paramters and forward function\n",
        "3. Training:\n",
        "*   Define the loss and optimisers\n",
        "*   Calculate the forward pass and back propagate the loss fn\n",
        "4. Make a new prediction\n",
        "5. Saving and Loading a model"
      ],
      "metadata": {
        "id": "0tlUlLzsy9oi"
      }
    },
    {
      "cell_type": "code",
      "source": [
        "## STEP 1: CREATING THE DATA\n",
        "# Create weight and bias\n",
        "weight = 0.7\n",
        "bias = 0.3\n",
        "\n",
        "# Create range values\n",
        "start,end,step = 0,1,0.02\n",
        "\n",
        "# Create X and y (features and labels)\n",
        "X = torch.arange(start, end, step).unsqueeze(dim=1) # without unsqueeze, errors will happen later on (shapes within linear layers)\n",
        "y = weight * X + bias \n",
        "X[:10], y[:10]\n",
        "\n",
        "# Split data\n",
        "train_split = int(0.8 * len(X))\n",
        "X_train, y_train = X[:train_split], y[:train_split]\n",
        "X_test, y_test = X[train_split:], y[train_split:]\n",
        "\n",
        "len(X_train), len(y_train), len(X_test), len(y_test)"
      ],
      "metadata": {
        "id": "kB8fhpVEyxNr"
      },
      "execution_count": null,
      "outputs": []
    },
    {
      "cell_type": "code",
      "source": [
        "## STEP 2: MODEL DEFINITION:\n",
        "class LR(nn.Module):\n",
        "  def __init__(self):\n",
        "    super().__init__()    ### This ensures that all the base class methods and variables are accessible.\n",
        "\n",
        "# Note:Calling the previously built methods with super() saves you from needing to\n",
        "# rewrite those methods in your subclass, and allows you to swap out superclasses with minimal code changes."
      ],
      "metadata": {
        "id": "s_NLWCAZ1BxI"
      },
      "execution_count": null,
      "outputs": []
    },
    {
      "cell_type": "code",
      "source": [
        "class Base(object):\n",
        "    def __init__(self):\n",
        "        print(\"Base created\")\n",
        "        \n",
        "class ChildA(Base):\n",
        "    def __init__(self):\n",
        "        Base.__init__(self)\n",
        "        \n",
        "class ChildB(Base):\n",
        "    def __init__(self):\n",
        "        super(ChildB, self).__init__()\n",
        "        \n",
        "ChildA() \n",
        "ChildB()"
      ],
      "metadata": {
        "colab": {
          "base_uri": "https://localhost:8080/"
        },
        "id": "uw4B7tEK2-LK",
        "outputId": "fa64fbfa-9662-4906-da83-107dcceb6a59"
      },
      "execution_count": null,
      "outputs": [
        {
          "output_type": "stream",
          "name": "stdout",
          "text": [
            "Base created\n",
            "Base created\n"
          ]
        },
        {
          "output_type": "execute_result",
          "data": {
            "text/plain": [
              "<__main__.ChildB at 0x7f2ccaf83fd0>"
            ]
          },
          "metadata": {},
          "execution_count": 2
        }
      ]
    },
    {
      "cell_type": "code",
      "source": [],
      "metadata": {
        "id": "-IletT9C3DlK"
      },
      "execution_count": null,
      "outputs": []
    }
  ]
}